{
  "nbformat": 4,
  "nbformat_minor": 0,
  "metadata": {
    "colab": {
      "name": "project-tim.ipynb",
      "provenance": [],
      "collapsed_sections": []
    },
    "kernelspec": {
      "name": "python3",
      "display_name": "Python 3"
    },
    "language_info": {
      "name": "python"
    }
  },
  "cells": [
    {
      "cell_type": "code",
      "metadata": {
        "id": "YNIq9AgShL89",
        "colab": {
          "base_uri": "https://localhost:8080/"
        },
        "outputId": "1fca5c64-2f0e-40f6-f79d-84407144c191"
      },
      "source": [
        "import numpy as np\n",
        "import matplotlib.pyplot as plt\n",
        "import cv2\n",
        "from tensorflow.keras.utils import image_dataset_from_directory\n",
        "from tensorflow.keras.preprocessing.image import ImageDataGenerator\n",
        "from google.colab import drive\n",
        "from google.colab.patches import cv2_imshow\n",
        "drive.mount('/content/drive', force_remount=True)"
      ],
      "execution_count": null,
      "outputs": [
        {
          "output_type": "stream",
          "name": "stdout",
          "text": [
            "Mounted at /content/drive\n"
          ]
        }
      ]
    },
    {
      "cell_type": "code",
      "metadata": {
        "id": "3sTvA_EvGp4u"
      },
      "source": [
        "path = '/content/drive/MyDrive/lfw/'"
      ],
      "execution_count": null,
      "outputs": []
    },
    {
      "cell_type": "code",
      "metadata": {
        "id": "cTZ_6aaA5MQ-"
      },
      "source": [
        "def preprocess(img):\n",
        "  #cv2_imshow(img)\n",
        "  #print(img.shape)\n",
        "  clf = cv2.CascadeClassifier(cv2.data.haarcascades +'haarcascade_frontalface_default.xml')\n",
        "  \n",
        "  #image = cv2.cvtColor(img, cv2.COLOR_BGR2RGB)\n",
        "  gray = cv2.cvtColor(img, cv2.COLOR_RGB2GRAY)\n",
        "  \n",
        "  gray = np.array(gray, dtype='uint8')\n",
        "  faces = clf.detectMultiScale(gray, 1.1, 3)\n",
        "  \n",
        "  cropped_img = 0\n",
        "  for (x, y, w, h) in faces:\n",
        "    cropped_img = img[x:x+w,y:y+w]\n",
        "  #cv2_imshow(cropped_img)\n",
        "  #print(cropped_img.shape)\n",
        "  return cv2.resize(cropped_img, (160, 160)) #facenet takes (160, 160)"
      ],
      "execution_count": null,
      "outputs": []
    },
    {
      "cell_type": "code",
      "metadata": {
        "colab": {
          "base_uri": "https://localhost:8080/"
        },
        "id": "mrZ8x9NOASt9",
        "outputId": "05764090-ac32-4b5b-99ca-71daf6ecdec9"
      },
      "source": [
        "#Set up generators.\n",
        "#One for training and one for testing\n",
        "datagen = ImageDataGenerator(preprocessing_function=preprocess, validation_split=0.2, rescale=1./255)\n",
        "train_gen = datagen.flow_from_directory(path, subset='training', target_size=(160, 160), color_mode='rgb')\n",
        "test_gen = datagen.flow_from_directory(path, subset='validation', target_size=(160, 160), color_mode='rgb')"
      ],
      "execution_count": null,
      "outputs": [
        {
          "output_type": "stream",
          "name": "stdout",
          "text": [
            "Found 12161 images belonging to 5749 classes.\n",
            "Found 1072 images belonging to 5749 classes.\n"
          ]
        }
      ]
    },
    {
      "cell_type": "code",
      "metadata": {
        "id": "PiLpajpgFpjm"
      },
      "source": [
        "#check to make sure the images have successfully been cropped\n",
        "x_batch, y_batch = train_gen.next() #fails when input is (160, 160)\n",
        "\n",
        "for i in range (0,2):\n",
        "    image = x_batch[i]\n",
        "    #print(image.shape)\n",
        "    #print(y_batch[i].shape)\n",
        "    plt.imshow(image)\n",
        "    plt.show()"
      ],
      "execution_count": null,
      "outputs": []
    }
  ]
}